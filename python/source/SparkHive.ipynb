{
 "cells": [
  {
   "cell_type": "code",
   "execution_count": null,
   "id": "24878e2c-c21c-4cae-9ef7-5c5d35489582",
   "metadata": {
    "tags": []
   },
   "outputs": [],
   "source": [
    "! pip install pyspark"
   ]
  },
  {
   "cell_type": "code",
   "execution_count": null,
   "id": "e36c7fea-4530-45c4-891f-14ed7fabd9dc",
   "metadata": {
    "tags": []
   },
   "outputs": [],
   "source": [
    "\n",
    "from pyspark.sql.types import *\n",
    "from pyspark.sql.window import Window\n",
    "\n",
    "import pyspark.sql.functions as F\n",
    "from pyspark.sql.functions import udf, col"
   ]
  },
  {
   "cell_type": "code",
   "execution_count": null,
   "id": "8b41148b-e7ca-4abb-ae59-d6bd91549ee8",
   "metadata": {
    "tags": []
   },
   "outputs": [],
   "source": [
    "from pyspark.sql import SparkSession\n",
    "\n",
    "spark = SparkSession.builder \\\n",
    "      .config(\"hive.metastore.uris\", \"thrift://172.27.1.8:9083\")\\\n",
    "      .config(\"spark.sql.warehouse.dir\", \"/user/hive/warehouse\")\\\n",
    "      .enableHiveSupport() \\\n",
    "      .getOrCreate() "
   ]
  },
  {
   "cell_type": "code",
   "execution_count": null,
   "id": "7b0965ab-0f74-482b-9eef-cbe4beb4f8ae",
   "metadata": {
    "tags": []
   },
   "outputs": [],
   "source": [
    "spark.sql(\"select * from retail_db.categories\").show(truncate=False)"
   ]
  },
  {
   "cell_type": "code",
   "execution_count": null,
   "id": "a9bdb92c-1c46-4c8e-ac7b-97ed6ad89286",
   "metadata": {
    "tags": []
   },
   "outputs": [],
   "source": [
    "spark.sql(\"select * from retail_db.customers\").show(truncate=False)"
   ]
  },
  {
   "cell_type": "code",
   "execution_count": null,
   "id": "b36d97d2-d296-4854-a528-b038099bf676",
   "metadata": {
    "tags": []
   },
   "outputs": [],
   "source": [
    "spark.sql(\"select * from retail_db.departments\").show(truncate=False)"
   ]
  },
  {
   "cell_type": "code",
   "execution_count": null,
   "id": "0541c55e-ebb6-4207-a961-55dea82a98e4",
   "metadata": {
    "tags": []
   },
   "outputs": [],
   "source": [
    "spark.sql(\"select * from retail_db.orders\").show(truncate=False)"
   ]
  },
  {
   "cell_type": "code",
   "execution_count": null,
   "id": "58fac0bf-151a-46a5-a835-4fd4e8c2a11b",
   "metadata": {
    "tags": []
   },
   "outputs": [],
   "source": [
    "spark.sql(\"select * from retail_db.order_items\").show(truncate=False)"
   ]
  },
  {
   "cell_type": "code",
   "execution_count": null,
   "id": "a1b906c2-cac5-4430-ab38-9f616c08995e",
   "metadata": {
    "tags": []
   },
   "outputs": [],
   "source": [
    "spark.sql(\"select * from retail_db.products\").show(truncate=False)"
   ]
  },
  {
   "cell_type": "markdown",
   "id": "1f8fe072-3dda-4eed-b530-c2d5384a3cb6",
   "metadata": {},
   "source": [
    "### Enunciado 1\n",
    "Mostrar un Top 20 de clientes que mas productos compraron con sus respectivos montos."
   ]
  },
  {
   "cell_type": "code",
   "execution_count": null,
   "id": "ad8c8d1d-37c6-435f-854a-a387457e91bb",
   "metadata": {
    "tags": []
   },
   "outputs": [],
   "source": [
    "spark.sql(\"\"\"SELECT\n",
    "    customer_id, customer_fname, customer_lname, customer_email, sum(order_item_quantity) as quantity_item_total, sum(order_item_subtotal)as total\n",
    "FROM\n",
    "    retail_db.customers as c\n",
    "INNER JOIN\n",
    "    retail_db.orders as o\n",
    "    ON c.customer_id = o.order_customer_id\n",
    "INNER JOIN\n",
    "    retail_db.order_items as oi\n",
    "    ON o.order_id = oi.order_item_order_id\n",
    "WHERE order_status <> 'CANCELED'\n",
    "GROUP BY customer_id, customer_fname, customer_lname, customer_email\n",
    "ORDER BY  total DESC\n",
    "LIMIT 20\"\"\").show()"
   ]
  },
  {
   "cell_type": "markdown",
   "id": "a02422d7-99b2-4c87-a46b-92e4f82fe94c",
   "metadata": {},
   "source": [
    "### Enunciado 2\n",
    "Mostrar las categorías con el total de productos vendidos y los montos totales por categoría"
   ]
  },
  {
   "cell_type": "code",
   "execution_count": null,
   "id": "2e927a68-6441-46f9-a3a1-f19fd5a85354",
   "metadata": {
    "tags": []
   },
   "outputs": [],
   "source": [
    "spark.sql(\"\"\"SELECT\n",
    "    ca.category_name, sum(order_item_quantity) as item_quantity, cast(sum(order_item_subtotal) AS INT )as total\n",
    "FROM retail_db.order_items as oi\n",
    "INNER JOIN\n",
    "    retail_db.products as p\n",
    "    ON oi.order_item_product_id = p.product_id\n",
    "INNER JOIN\n",
    "    retail_db.categories as ca\n",
    "    ON p.product_category_id = ca.category_id\n",
    "GROUP BY ca.category_name;\n",
    "\"\"\").show()"
   ]
  },
  {
   "cell_type": "markdown",
   "id": "bc3d8ccf-1103-499d-aa05-73b0756efd08",
   "metadata": {},
   "source": [
    "### Enunciado 3\n",
    "Mostrar la categoría más vendida por ciudad"
   ]
  },
  {
   "cell_type": "code",
   "execution_count": null,
   "id": "aba5d0ec-5bba-43a0-92c4-48ff032e0eaa",
   "metadata": {
    "tags": []
   },
   "outputs": [],
   "source": [
    "spark.sql(\"\"\"\n",
    "SELECT\n",
    "    customer_city, category_name\n",
    "FROM (SELECT\n",
    "    customer_city, category_name, count(category_name) as quantity, DENSE_RANK () OVER ( \n",
    "                PARTITION BY customer_city \n",
    "                ORDER BY count(category_name) DESC\n",
    "            ) rank\n",
    "    FROM\n",
    "        retail_db.customers as c\n",
    "    INNER JOIN\n",
    "        retail_db.orders as o\n",
    "        ON c.customer_id = o.order_customer_id\n",
    "    INNER JOIN\n",
    "        retail_db.order_items as oi\n",
    "        ON o.order_id = oi.order_item_order_id\n",
    "    INNER JOIN\n",
    "        retail_db.products as p\n",
    "        ON oi.order_item_product_id = p.product_id\n",
    "    INNER JOIN\n",
    "        retail_db.categories as ca\n",
    "        ON p.product_category_id = ca.category_id\n",
    "    GROUP BY customer_city, category_name\n",
    "    ) t\n",
    "WHERE rank = 1;\"\"\").show()"
   ]
  },
  {
   "cell_type": "markdown",
   "id": "b81df90c-fab3-44dc-a485-b063f806a9ef",
   "metadata": {},
   "source": [
    "### Enunciado 4\n",
    "Mostrar los 5 productos más vendidos por cada ciudad y el monto recaudado"
   ]
  },
  {
   "cell_type": "code",
   "execution_count": null,
   "id": "985160ac-0c23-43be-87c9-45b3c2b5db00",
   "metadata": {
    "tags": []
   },
   "outputs": [],
   "source": [
    "spark.sql(\"\"\"\n",
    "SELECT\n",
    "    customer_city, product_name, quantity, total\n",
    "FROM (SELECT\n",
    "    customer_city, product_name,sum(order_item_quantity) as quantity,sum(order_item_subtotal) as total, DENSE_RANK () OVER ( \n",
    "                PARTITION BY customer_city \n",
    "                ORDER BY sum(order_item_quantity) DESC\n",
    "            ) rank\n",
    "    FROM\n",
    "        retail_db.customers as c\n",
    "    INNER JOIN\n",
    "        retail_db.orders as o\n",
    "        ON c.customer_id = o.order_customer_id\n",
    "    INNER JOIN\n",
    "        retail_db.order_items as oi\n",
    "        ON o.order_id = oi.order_item_order_id\n",
    "    INNER JOIN\n",
    "        retail_db.products as p\n",
    "        ON oi.order_item_product_id = p.product_id\n",
    "    GROUP BY customer_city, product_name\n",
    "    ) t\n",
    "WHERE rank < 6\n",
    "ORDER BY quantity DESC;\n",
    "\"\"\").show()"
   ]
  },
  {
   "cell_type": "code",
   "execution_count": null,
   "id": "169cbead-c7bc-45a1-8c04-34b6423fafd7",
   "metadata": {},
   "outputs": [],
   "source": []
  }
 ],
 "metadata": {
  "kernelspec": {
   "display_name": "Python 3 (ipykernel)",
   "language": "python",
   "name": "python3"
  },
  "language_info": {
   "codemirror_mode": {
    "name": "ipython",
    "version": 3
   },
   "file_extension": ".py",
   "mimetype": "text/x-python",
   "name": "python",
   "nbconvert_exporter": "python",
   "pygments_lexer": "ipython3",
   "version": "3.9.19"
  }
 },
 "nbformat": 4,
 "nbformat_minor": 5
}
